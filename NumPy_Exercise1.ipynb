{
 "cells": [
  {
   "cell_type": "code",
   "execution_count": 3,
   "metadata": {},
   "outputs": [],
   "source": [
    "#Analyze gdp per capita for given set of countries\n",
    "#find country with max and min gdp\n",
    "#find and print gdp per capita of eac country\n",
    "#pring gdp => mean, max, min, standard deviation and sum\n",
    "\n",
    "import numpy as np\n",
    "\n",
    "countries = np.array(['Algeria','Angola','Argentina','Australia','Asutri','Bahamas','Bangladesh','Belarus','Belgium',\n",
    "                      'Bhutan','Brazil','Bulgaria','Cambodia','Cameroon','Chile','China','Colombia','Cyprus','Denmark',\n",
    "                      'El Salvado','Estonia,','Ethiopia','Fiji','Finland','France','Georgia','Ghana','Grenada',\n",
    "                      'Guinea','Haiti','Honduras','Hungary','India','Indonesia','Irealnd','Italy','Japan','Kenya',\n",
    "                      'South Korea','Liberia','Malaysia','Mexico','Morocco','Nepal','New Zealand','Norway','Pakistan',\n",
    "                      'Peru','Qatar','Russia','Singapore','South Africa','Spain','Sweden','Switzerland','Thailand',\n",
    "                      'Venezuela','Vietnam','Zimbabwe'])\n",
    "\n",
    "gdp_per_capita = np.array([2255.225482,629.9553062,11601.63022,25306.82494,27266.40335,19466.99052,588.3691778,\n",
    "                          2890.345675,24733.62696,1445.760002,4803.398244,2618.876037,590.4521124,665.7982328,7122.938458,\n",
    "                           2639.54156,3362.4656,15378.16704,30860.12808,2579.115607,6525.541272,229.6769525,2242.689259,27570.4852,\n",
    "                          23016.84778,1334.646773,402.6953275,6047.200797,394.1156638,385.5793827,1414.072488,5745.981529,\n",
    "                          837.7464011,1206.991065,27715.52837,18937.24998,39578.07441,478.2194906,16684.21278,279.2204061,\n",
    "                          5345.213415,6288.25324,1908.304416,274.8728621,14646.42094,40034.85063,672.1547506,3359.517402,\n",
    "                          36152.66676,3054.727742,33529.83052,3825.093781,15428.32098,33630.24604,39170.41371,2699.123242,\n",
    "                          21058.43643,28272.40661,37691.02733,9581.05659,5671.912202,757.4009286,347.7456605])"
   ]
  },
  {
   "cell_type": "code",
   "execution_count": 7,
   "metadata": {},
   "outputs": [],
   "source": [
    "max_gdp_per_capita = gdp_per_capita.argmax()"
   ]
  },
  {
   "cell_type": "code",
   "execution_count": 5,
   "metadata": {},
   "outputs": [],
   "source": [
    "country_with_max_gdp_per_capita = countries[max_gdp_per_capita]"
   ]
  },
  {
   "cell_type": "code",
   "execution_count": 8,
   "metadata": {},
   "outputs": [
    {
     "data": {
      "text/plain": [
       "'Norway'"
      ]
     },
     "execution_count": 8,
     "metadata": {},
     "output_type": "execute_result"
    }
   ],
   "source": [
    "country_with_max_gdp_per_capita"
   ]
  },
  {
   "cell_type": "code",
   "execution_count": 11,
   "metadata": {},
   "outputs": [],
   "source": [
    "min_gdp_per_capita = gdp_per_capita.argmin()"
   ]
  },
  {
   "cell_type": "code",
   "execution_count": 12,
   "metadata": {},
   "outputs": [],
   "source": [
    "country_with_min_gdp_per_capita = countries[min_gdp_per_capita]"
   ]
  },
  {
   "cell_type": "code",
   "execution_count": 13,
   "metadata": {},
   "outputs": [
    {
     "data": {
      "text/plain": [
       "'Ethiopia'"
      ]
     },
     "execution_count": 13,
     "metadata": {},
     "output_type": "execute_result"
    }
   ],
   "source": [
    "country_with_min_gdp_per_capita "
   ]
  },
  {
   "cell_type": "code",
   "execution_count": 14,
   "metadata": {},
   "outputs": [
    {
     "name": "stdout",
     "output_type": "stream",
     "text": [
      "ecaluating country Algeria\n",
      "ecaluating country Angola\n",
      "ecaluating country Argentina\n",
      "ecaluating country Australia\n",
      "ecaluating country Asutri\n",
      "ecaluating country Bahamas\n",
      "ecaluating country Bangladesh\n",
      "ecaluating country Belarus\n",
      "ecaluating country Belgium\n",
      "ecaluating country Bhutan\n",
      "ecaluating country Brazil\n",
      "ecaluating country Bulgaria\n",
      "ecaluating country Cambodia\n",
      "ecaluating country Cameroon\n",
      "ecaluating country Chile\n",
      "ecaluating country China\n",
      "ecaluating country Colombia\n",
      "ecaluating country Cyprus\n",
      "ecaluating country Denmark\n",
      "ecaluating country El Salvado\n",
      "ecaluating country Estonia,\n",
      "ecaluating country Ethiopia\n",
      "ecaluating country Fiji\n",
      "ecaluating country Finland\n",
      "ecaluating country France\n",
      "ecaluating country Georgia\n",
      "ecaluating country Ghana\n",
      "ecaluating country Grenada\n",
      "ecaluating country Guinea\n",
      "ecaluating country Haiti\n",
      "ecaluating country Honduras\n",
      "ecaluating country Hungary\n",
      "ecaluating country India\n",
      "ecaluating country Indonesia\n",
      "ecaluating country Irealnd\n",
      "ecaluating country Italy\n",
      "ecaluating country Japan\n",
      "ecaluating country Kenya\n",
      "ecaluating country South Korea\n",
      "ecaluating country Liberia\n",
      "ecaluating country Malaysia\n",
      "ecaluating country Mexico\n",
      "ecaluating country Morocco\n",
      "ecaluating country Nepal\n",
      "ecaluating country New Zealand\n",
      "ecaluating country Norway\n",
      "ecaluating country Pakistan\n",
      "ecaluating country Peru\n",
      "ecaluating country Qatar\n",
      "ecaluating country Russia\n",
      "ecaluating country Singapore\n",
      "ecaluating country South Africa\n",
      "ecaluating country Spain\n",
      "ecaluating country Sweden\n",
      "ecaluating country Switzerland\n",
      "ecaluating country Thailand\n",
      "ecaluating country Venezuela\n",
      "ecaluating country Vietnam\n",
      "ecaluating country Zimbabwe\n"
     ]
    }
   ],
   "source": [
    "for country in countries:\n",
    "    print 'ecaluating country {}'.format(country)"
   ]
  },
  {
   "cell_type": "code",
   "execution_count": 15,
   "metadata": {},
   "outputs": [
    {
     "name": "stdout",
     "output_type": "stream",
     "text": [
      "Country Algeria per capita gdp is 2255.225482\n",
      "Country Angola per capita gdp is 629.9553062\n",
      "Country Argentina per capita gdp is 11601.63022\n",
      "Country Australia per capita gdp is 25306.82494\n",
      "Country Asutri per capita gdp is 27266.40335\n",
      "Country Bahamas per capita gdp is 19466.99052\n",
      "Country Bangladesh per capita gdp is 588.3691778\n",
      "Country Belarus per capita gdp is 2890.345675\n",
      "Country Belgium per capita gdp is 24733.62696\n",
      "Country Bhutan per capita gdp is 1445.760002\n",
      "Country Brazil per capita gdp is 4803.398244\n",
      "Country Bulgaria per capita gdp is 2618.876037\n",
      "Country Cambodia per capita gdp is 590.4521124\n",
      "Country Cameroon per capita gdp is 665.7982328\n",
      "Country Chile per capita gdp is 7122.938458\n",
      "Country China per capita gdp is 2639.54156\n",
      "Country Colombia per capita gdp is 3362.4656\n",
      "Country Cyprus per capita gdp is 15378.16704\n",
      "Country Denmark per capita gdp is 30860.12808\n",
      "Country El Salvado per capita gdp is 2579.115607\n",
      "Country Estonia, per capita gdp is 6525.541272\n",
      "Country Ethiopia per capita gdp is 229.6769525\n",
      "Country Fiji per capita gdp is 2242.689259\n",
      "Country Finland per capita gdp is 27570.4852\n",
      "Country France per capita gdp is 23016.84778\n",
      "Country Georgia per capita gdp is 1334.646773\n",
      "Country Ghana per capita gdp is 402.6953275\n",
      "Country Grenada per capita gdp is 6047.200797\n",
      "Country Guinea per capita gdp is 394.1156638\n",
      "Country Haiti per capita gdp is 385.5793827\n",
      "Country Honduras per capita gdp is 1414.072488\n",
      "Country Hungary per capita gdp is 5745.981529\n",
      "Country India per capita gdp is 837.7464011\n",
      "Country Indonesia per capita gdp is 1206.991065\n",
      "Country Irealnd per capita gdp is 27715.52837\n",
      "Country Italy per capita gdp is 18937.24998\n",
      "Country Japan per capita gdp is 39578.07441\n",
      "Country Kenya per capita gdp is 478.2194906\n",
      "Country South Korea per capita gdp is 16684.21278\n",
      "Country Liberia per capita gdp is 279.2204061\n",
      "Country Malaysia per capita gdp is 5345.213415\n",
      "Country Mexico per capita gdp is 6288.25324\n",
      "Country Morocco per capita gdp is 1908.304416\n",
      "Country Nepal per capita gdp is 274.8728621\n",
      "Country New Zealand per capita gdp is 14646.42094\n",
      "Country Norway per capita gdp is 40034.85063\n",
      "Country Pakistan per capita gdp is 672.1547506\n",
      "Country Peru per capita gdp is 3359.517402\n",
      "Country Qatar per capita gdp is 36152.66676\n",
      "Country Russia per capita gdp is 3054.727742\n",
      "Country Singapore per capita gdp is 33529.83052\n",
      "Country South Africa per capita gdp is 3825.093781\n",
      "Country Spain per capita gdp is 15428.32098\n",
      "Country Sweden per capita gdp is 33630.24604\n",
      "Country Switzerland per capita gdp is 39170.41371\n",
      "Country Thailand per capita gdp is 2699.123242\n",
      "Country Venezuela per capita gdp is 21058.43643\n",
      "Country Vietnam per capita gdp is 28272.40661\n",
      "Country Zimbabwe per capita gdp is 37691.02733\n"
     ]
    }
   ],
   "source": [
    "for i in range(len(countries)):\n",
    "    country = countries[i]\n",
    "    country_gdp_per_capita = gdp_per_capita[i]\n",
    "    print 'Country {} per capita gdp is {}'. format(country, country_gdp_per_capita)"
   ]
  },
  {
   "cell_type": "code",
   "execution_count": 16,
   "metadata": {},
   "outputs": [
    {
     "name": "stdout",
     "output_type": "stream",
     "text": [
      "40034.85063\n",
      "229.6769525\n",
      "11289.409271639683\n",
      "12743.828910617945\n",
      "711232.7841133\n"
     ]
    }
   ],
   "source": [
    "print gdp_per_capita.max()\n",
    "print gdp_per_capita.min()\n",
    "print gdp_per_capita.mean()\n",
    "print gdp_per_capita.std()\n",
    "print gdp_per_capita.sum()\n"
   ]
  },
  {
   "cell_type": "code",
   "execution_count": null,
   "metadata": {},
   "outputs": [],
   "source": []
  }
 ],
 "metadata": {
  "kernelspec": {
   "display_name": "Python 2",
   "language": "python",
   "name": "python2"
  },
  "language_info": {
   "codemirror_mode": {
    "name": "ipython",
    "version": 2
   },
   "file_extension": ".py",
   "mimetype": "text/x-python",
   "name": "python",
   "nbconvert_exporter": "python",
   "pygments_lexer": "ipython2",
   "version": "2.7.16"
  }
 },
 "nbformat": 4,
 "nbformat_minor": 2
}

{
 "cells": [
  {
   "cell_type": "code",
   "execution_count": 20,
   "metadata": {},
   "outputs": [],
   "source": [
    "#import bs4 the beautifulsoup library\n",
    "from bs4 import BeautifulSoup"
   ]
  },
  {
   "cell_type": "code",
   "execution_count": 21,
   "metadata": {},
   "outputs": [],
   "source": [
    "#create employee html document\n",
    "employee_html_doc =\"\"\"<employee>\n",
    "    <employee class=\"accountant\">\n",
    "        <firstName>John</firstName> <lastName>Doe</lastName>\n",
    "    </employee>\n",
    "    <employee class=\"manager\">\n",
    "        firstName>Anna</firstName> <lastName>Smith</lastName>\n",
    "    </employee>\n",
    "    <employee class=\"developer\">\n",
    "        firstName>Peter</firstName> <lastName>Jones</lastName>\n",
    "    </employee>\n",
    "</employees>\"\"\""
   ]
  },
  {
   "cell_type": "code",
   "execution_count": 25,
   "metadata": {},
   "outputs": [],
   "source": [
    "#create soup object\n",
    "soup_emp = BeautifulSoup(employee_html_doc,'html.parser')"
   ]
  },
  {
   "cell_type": "code",
   "execution_count": 26,
   "metadata": {},
   "outputs": [
    {
     "data": {
      "text/plain": [
       "<employee>\\n<employee class=\"accountant\">\\n<firstname>John</firstname> <lastname>Doe</lastname>\\n</employee>\\n<employee class=\"manager\">\\n        firstName&gt;Anna</employee></employee>"
      ]
     },
     "execution_count": 26,
     "metadata": {},
     "output_type": "execute_result"
    }
   ],
   "source": [
    "#access and view the tag\n",
    "tag = soup_emp.employee\n",
    "tag"
   ]
  },
  {
   "cell_type": "code",
   "execution_count": 29,
   "metadata": {},
   "outputs": [],
   "source": [
    "#modify the tag\n",
    "tag['class']='manager'"
   ]
  },
  {
   "cell_type": "code",
   "execution_count": 30,
   "metadata": {},
   "outputs": [
    {
     "data": {
      "text/plain": [
       "<employee class=\"manager\">\\n<employee class=\"accountant\">\\n<firstname>John</firstname> <lastname>Doe</lastname>\\n</employee>\\n<employee class=\"manager\">\\n        firstName&gt;Anna</employee></employee>"
      ]
     },
     "execution_count": 30,
     "metadata": {},
     "output_type": "execute_result"
    }
   ],
   "source": [
    "#view the tag to see the modification\n",
    "tag"
   ]
  },
  {
   "cell_type": "code",
   "execution_count": 32,
   "metadata": {},
   "outputs": [
    {
     "data": {
      "text/plain": [
       "<employee class=\"manager\">\\n<employee class=\"accountant\">\\n<firstname>John</firstname> <lastname>Doe</lastname>\\n</employee>\\n<employee class=\"manager\">\\n        firstName&gt;Anna</employee></employee> <lastname>Smith</lastname>\\n\\n<employee class=\"developer\">\\n        firstName&gt;Peter</employee> <lastname>Jones</lastname>\\n\\n"
      ]
     },
     "execution_count": 32,
     "metadata": {},
     "output_type": "execute_result"
    }
   ],
   "source": [
    "#view the soup object to verify the modification\n",
    "soup_emp"
   ]
  },
  {
   "cell_type": "code",
   "execution_count": 33,
   "metadata": {},
   "outputs": [
    {
     "ename": "AttributeError",
     "evalue": "'NoneType' object has no attribute 'employee'",
     "output_type": "error",
     "traceback": [
      "\u001b[0;31m\u001b[0m",
      "\u001b[0;31mAttributeError\u001b[0mTraceback (most recent call last)",
      "\u001b[0;32m<ipython-input-33-4081b79231bd>\u001b[0m in \u001b[0;36m<module>\u001b[0;34m()\u001b[0m\n\u001b[1;32m      3\u001b[0m \u001b[0mtag\u001b[0m\u001b[0;34m.\u001b[0m\u001b[0mstring\u001b[0m \u001b[0;34m=\u001b[0m \u001b[0;34m'Manager 1'\u001b[0m\u001b[0;34m\u001b[0m\u001b[0m\n\u001b[1;32m      4\u001b[0m \u001b[0;31m#modify using insert_after_method\u001b[0m\u001b[0;34m\u001b[0m\u001b[0;34m\u001b[0m\u001b[0m\n\u001b[0;32m----> 5\u001b[0;31m \u001b[0msoup_emp\u001b[0m\u001b[0;34m.\u001b[0m\u001b[0memployees\u001b[0m\u001b[0;34m.\u001b[0m\u001b[0memployee\u001b[0m\u001b[0;34m.\u001b[0m\u001b[0minsert_after\u001b[0m\u001b[0;34m(\u001b[0m\u001b[0mtag\u001b[0m\u001b[0;34m)\u001b[0m\u001b[0;34m\u001b[0m\u001b[0m\n\u001b[0m",
      "\u001b[0;31mAttributeError\u001b[0m: 'NoneType' object has no attribute 'employee'"
     ]
    }
   ],
   "source": [
    "#add a tag\n",
    "tag = soup_emp.new_tag('rank')\n",
    "tag.string = 'Manager 1'\n",
    "#modify using insert_after_method\n",
    "soup_emp.employees.employee.insert_after(tag)"
   ]
  },
  {
   "cell_type": "code",
   "execution_count": null,
   "metadata": {},
   "outputs": [],
   "source": []
  }
 ],
 "metadata": {
  "kernelspec": {
   "display_name": "Python 2",
   "language": "python",
   "name": "python2"
  },
  "language_info": {
   "codemirror_mode": {
    "name": "ipython",
    "version": 2
   },
   "file_extension": ".py",
   "mimetype": "text/x-python",
   "name": "python",
   "nbconvert_exporter": "python",
   "pygments_lexer": "ipython2",
   "version": "2.7.16"
  }
 },
 "nbformat": 4,
 "nbformat_minor": 2
}

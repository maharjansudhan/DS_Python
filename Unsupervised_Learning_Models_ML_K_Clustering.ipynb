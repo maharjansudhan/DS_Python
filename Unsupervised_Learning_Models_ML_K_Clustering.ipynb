{
 "cells": [
  {
   "cell_type": "code",
   "execution_count": 2,
   "metadata": {},
   "outputs": [],
   "source": [
    "#import required librarires\n",
    "import numpy as np\n",
    "\n",
    "#import k-mean class from sklearn.cluster\n",
    "from sklearn.cluster import KMeans\n",
    "\n",
    "#import make_blobs dataset from sklearn.cluster\n",
    "from sklearn.datasets import make_blobs"
   ]
  },
  {
   "cell_type": "code",
   "execution_count": 3,
   "metadata": {},
   "outputs": [
    {
     "name": "stdout",
     "output_type": "stream",
     "text": [
      "[0 2 1 2 0 1 2 1 2 1 1 2 1 1 2 1 0 1 1 2 2 2 0 1 2 1 0 0 2 1 0 2 2 2 2 1 1\n",
      " 0 0 0 0 2 2 0 1 0 1 1 0 0 0 1 1 2 0 1 2 0 1 1 1 2 1 2 2 1 0 2 2 2 0 2 1 0\n",
      " 2 2 1 2 0 1 2 2 2 1 1 1 2 0 0 1 1 2 1 1 1 2 1 0 0 2 2 2 2 1 0 2 1 1 0 1 0\n",
      " 1 2 1 0 0 0 2 1 1 0 0 2 2 0 1 0 1 1 2 1 0 0 1 1 2 2 1 0 1 1 0 2 2 0 0 2 1\n",
      " 0 0 2 0 1 0 2 1 2 0 1 2 2 2 0 2 1 1 0 1 0 1 0 2 1 1 2 2 0 1 1 0 0 2 2 2 0\n",
      " 2 2 1 2 2 1 2 1 1 0 0 0 0 0 2 1 1 0 2 1 0 0 1 2 2 0 0 1 2 0 0 1 0 1 2 0 2\n",
      " 2 1 0 0 1 1 1 2 2 1 0 2 0 0 1 2 2 1 0 2 2 0 1 1 1 1 1 2 2 0 0 1 0 2 1 0 0\n",
      " 2 0 1 0 2 2 0 0 0 0 2 0 0 2 1 0 0 1 2 2 0 0 1 2 1 2 2 0 0 2 0 2 1 0 2 1 0\n",
      " 2 0 0 1]\n"
     ]
    }
   ],
   "source": [
    "#define number of samples\n",
    "n_samples = 300\n",
    "\n",
    "#define random state value to initialize the center\n",
    "random_state = 20\n",
    "\n",
    "\n",
    "#define number of features as 5\n",
    "X,y = make_blobs(n_samples = n_samples, n_features = 5, random_state = None)\n",
    "\n",
    "#define number of clusters to be formed as 3 and in random state and fit features into the model\n",
    "predict_y = KMeans(n_clusters=3,random_state = random_state).fit_predict(X)\n",
    "\n",
    "#print the estimator prediction\n",
    "print predict_y"
   ]
  },
  {
   "cell_type": "code",
   "execution_count": null,
   "metadata": {},
   "outputs": [],
   "source": []
  }
 ],
 "metadata": {
  "kernelspec": {
   "display_name": "Python 2",
   "language": "python",
   "name": "python2"
  },
  "language_info": {
   "codemirror_mode": {
    "name": "ipython",
    "version": 2
   },
   "file_extension": ".py",
   "mimetype": "text/x-python",
   "name": "python",
   "nbconvert_exporter": "python",
   "pygments_lexer": "ipython2",
   "version": "2.7.16"
  }
 },
 "nbformat": 4,
 "nbformat_minor": 2
}
